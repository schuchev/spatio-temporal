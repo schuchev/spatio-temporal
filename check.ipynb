{
 "cells": [
  {
   "cell_type": "code",
   "execution_count": 16,
   "id": "9c56d7cd",
   "metadata": {
    "scrolled": false
   },
   "outputs": [],
   "source": [
    "import import_ipynb\n",
    "import models\n",
    "import inference\n",
    "import spatiotemporal\n",
    "import warnings\n",
    "\n",
    "warnings.filterwarnings(\"ignore\")"
   ]
  },
  {
   "cell_type": "code",
   "execution_count": 11,
   "id": "6f042451",
   "metadata": {},
   "outputs": [],
   "source": [
    "import matplotlib.pyplot as plt"
   ]
  },
  {
   "cell_type": "code",
   "execution_count": 2,
   "id": "d06cfc9d",
   "metadata": {},
   "outputs": [],
   "source": [
    "import xarray as xr\n",
    "import pandas as pd\n",
    "\n",
    "ds = xr.tutorial.load_dataset('air_temperature')\n",
    "\n",
    "ds_daily = ds.resample(time='1D').mean()\n",
    "\n",
    "df_daily = ds_daily['air'].to_dataframe().reset_index()\n",
    "test=df_daily[200000:210000].drop('air',axis=1)\n",
    "train=df_daily[:200000]"
   ]
  },
  {
   "cell_type": "code",
   "execution_count": 4,
   "id": "403e6e58",
   "metadata": {},
   "outputs": [],
   "source": [
    "model = spatiotemporal.BayesianNeuralFieldMAP(\n",
    "  width=64,\n",
    "  depth=3,\n",
    "  freq='h',\n",
    "  seasonality_periods=['D', 'W'], \n",
    "  num_seasonal_harmonics=[4, 4], \n",
    "  feature_cols=['time', 'lat', 'lon'],\n",
    "  target_col='air',\n",
    "  observation_model='NORMAL',\n",
    "  timetype='index',\n",
    "  standardize=['lat', 'lon'],\n",
    "  )\n",
    "model = model.fit(\n",
    "    train,\n",
    "    seed=10,\n",
    "    ensemble_size=3,\n",
    "    num_epochs=10\n",
    "    )\n"
   ]
  },
  {
   "cell_type": "code",
   "execution_count": 5,
   "id": "b6956d62",
   "metadata": {},
   "outputs": [],
   "source": [
    "x,y = model.predict(test, quantiles=(0.025, 0.5, 0.975))"
   ]
  },
  {
   "cell_type": "code",
   "execution_count": 15,
   "id": "5fc17764",
   "metadata": {},
   "outputs": [
    {
     "data": {
      "text/plain": [
       "tensor([0.0501, 0.0444, 0.0493,  ..., 0.0412, 0.0342, 0.0397],\n",
       "       grad_fn=<SelectBackward0>)"
      ]
     },
     "execution_count": 15,
     "metadata": {},
     "output_type": "execute_result"
    }
   ],
   "source": [
    "x"
   ]
  }
 ],
 "metadata": {
  "kernelspec": {
   "display_name": "Python 3 (Updated)",
   "language": "python",
   "name": "python3"
  },
  "language_info": {
   "codemirror_mode": {
    "name": "ipython",
    "version": 3
   },
   "file_extension": ".py",
   "mimetype": "text/x-python",
   "name": "python",
   "nbconvert_exporter": "python",
   "pygments_lexer": "ipython3",
   "version": "3.9.13"
  }
 },
 "nbformat": 4,
 "nbformat_minor": 5
}
